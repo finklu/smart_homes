{
 "cells": [
  {
   "cell_type": "markdown",
   "id": "81464ad6",
   "metadata": {},
   "source": [
    "# Homework Assignment\n",
    " 02.06.2025, Marcus Teichtmeister, Lucas Fink"
   ]
  },
  {
   "cell_type": "markdown",
   "id": "da3eff24",
   "metadata": {},
   "source": [
    "## 1) Data Ingestion"
   ]
  },
  {
   "cell_type": "code",
   "execution_count": 128,
   "id": "383bcc65",
   "metadata": {},
   "outputs": [],
   "source": [
    "import os, time, pandas as pd,random\n",
    "from datetime import datetime, timedelta\n",
    "\n",
    "# Output directory\n",
    "output_dir = \"data\"\n",
    "os.makedirs(output_dir, exist_ok=True)\n",
    "\n",
    "# Define the headers for the CSV files\n",
    "header_fuel_level= ['sensor_id', 'timestamp', 'fuel_level']\n",
    "header_engine_temperature = ['sensor_id', 'timestamp', 'engine_temperature']\n",
    "header_speed = ['sensor_id', 'timestamp', 'speed']"
   ]
  },
  {
   "cell_type": "markdown",
   "id": "cdc33c83",
   "metadata": {},
   "source": [
    "#### Intitial Values"
   ]
  },
  {
   "cell_type": "code",
   "execution_count": 129,
   "id": "31871730",
   "metadata": {},
   "outputs": [],
   "source": [
    "speed = 0.0                 # Initial speed in km/h\n",
    "engine_temperature = 20     # Initial temperature in Celsius\n",
    "fuel_level = 50             # Initial fuel level in liters\n",
    "timestamp = datetime.now()  # Initial timestamp\n",
    "\n",
    "speed_targets = [0, 30, 50, 70, 100, 50, 0]         # target speeds in km/h\n",
    "phase_duration = round(random.uniform(20, 100), 2)  # seconds per phase\n",
    "current_phase = 0\n",
    "phase_time = 0"
   ]
  },
  {
   "cell_type": "markdown",
   "id": "cd6cb9fc",
   "metadata": {},
   "source": [
    "#### Functions for generating data"
   ]
  },
  {
   "cell_type": "code",
   "execution_count": null,
   "id": "b4bdd5a2",
   "metadata": {},
   "outputs": [],
   "source": [
    "def generate_engine_temperature_sensor_data(sensor_id=1):\n",
    "    global engine_temperature\n",
    "    if speed > 0:\n",
    "        engine_temperature += round(random.uniform(1, 1.5), 2)\n",
    "    if engine_temperature > 90:\n",
    "        engine_temperature = 90  # Cap the temperature at 90 degrees Celsius\n",
    "        \n",
    "    if speed == 0:\n",
    "        engine_temperature -= round(random.uniform(3.5, 5.0), 2) if engine_temperature > 20 else 0  # Cool down when stopped\n",
    "        \n",
    "    return {\n",
    "        \"sensor_id\": sensor_id,\n",
    "        \"timestamp\": timestamp.isoformat(),\n",
    "        \"engine_temperature\": engine_temperature if random.random() > 0.2 else None  # Simulate occasional sensor failure,\n",
    "    }\n",
    "\n",
    "def generate_speed_sensor_data(sensor_id=2):\n",
    "    global speed, current_phase, phase_time, timestamp\n",
    "\n",
    "\n",
    "    # Change phase when duration exceeded\n",
    "    if phase_time >= phase_duration:\n",
    "        current_phase = (current_phase + 1) % len(speed_targets)\n",
    "        phase_time = 0\n",
    "    phase_time += 1\n",
    "    target_speed = speed_targets[current_phase]\n",
    "\n",
    "    # Simulate realistic change toward target speed\n",
    "    if speed < target_speed:\n",
    "        speed += random.uniform(2.5, 4.5)  # acceleration\n",
    "    elif speed > target_speed:\n",
    "        speed -= random.uniform(1.0, 4.0)  # braking\n",
    "    speed = max(0, min(speed, 130))  # limit between 0–130 km/h\n",
    "\n",
    "    # Update timestamp\n",
    "    timestamp += timedelta(seconds=1)\n",
    "\n",
    "    if current_phase == 0:\n",
    "        current_phase = 1  # Ensure we start with a valid phase\n",
    "        \n",
    "    return {\n",
    "        \"sensor_id\": sensor_id,\n",
    "        \"timestamp\": timestamp.isoformat(),\n",
    "        \"speed\": round(speed, 2)\n",
    "    }\n",
    "\n",
    "def generate_fuel_level_sensor_data(sensor_id=3):\n",
    "    global fuel_level\n",
    "    fuel_level -= round(random.uniform(0, 0.002), 5)\n",
    "    if fuel_level < 0:\n",
    "        fuel_level = 0\n",
    "\n",
    "    return {\n",
    "        \"sensor_id\": sensor_id,\n",
    "        \"timestamp\": timestamp.isoformat(),\n",
    "        \"fuel_level\": fuel_level,\n",
    "    }"
   ]
  },
  {
   "cell_type": "code",
   "execution_count": 131,
   "id": "12dec0e3",
   "metadata": {},
   "outputs": [],
   "source": [
    "# Save data as CSV\n",
    "def save_data_csv(filename, data):\n",
    "    filepath = os.path.join(output_dir, filename)\n",
    "    df = pd.DataFrame(data)\n",
    "    df.to_csv(filepath, mode='w', index=False, header=True)  \n",
    "    print(f\"Saved sensor data as CSV: {filepath}\")"
   ]
  },
  {
   "cell_type": "code",
   "execution_count": 132,
   "id": "36bccc0d",
   "metadata": {},
   "outputs": [
    {
     "name": "stdout",
     "output_type": "stream",
     "text": [
      "Saved sensor data as CSV: data\\engine_temperature_data.csv\n",
      "Saved sensor data as CSV: data\\speed_data.csv\n",
      "Saved sensor data as CSV: data\\fuel_level_data.csv\n"
     ]
    }
   ],
   "source": [
    "num_iterations = int(input(\"Wie viele Sekunden sollen simuliert werden? \"))\n",
    "\n",
    "# collect sensor data\n",
    "engine_temperature_sensor_data = []\n",
    "speed_sensor_data = []\n",
    "fuel_level_sensor_data = []\n",
    "\n",
    "for i in range(num_iterations):\n",
    "    engine_temperature_data = generate_engine_temperature_sensor_data()\n",
    "    engine_temperature_sensor_data.append(engine_temperature_data)\n",
    "    \n",
    "    speed_data = generate_speed_sensor_data()\n",
    "    speed_sensor_data.append(speed_data)\n",
    "    \n",
    "    fuel_level_data = generate_fuel_level_sensor_data()\n",
    "    fuel_level_sensor_data.append(fuel_level_data)\n",
    "    \n",
    "    # simulate duplicate data for engine temperature every 3 iterations\n",
    "    if i % 3 == 0 and i != 0:\n",
    "        engine_temperature_sensor_data.append(engine_temperature_data)\n",
    "\n",
    "# create DataFrames\n",
    "df_engine = pd.DataFrame(engine_temperature_sensor_data)\n",
    "df_speed = pd.DataFrame(speed_sensor_data)\n",
    "df_fuel = pd.DataFrame(fuel_level_sensor_data)\n",
    "\n",
    "# CSV-Dateien speichern\n",
    "save_data_csv(\"engine_temperature_data.csv\", df_engine)\n",
    "save_data_csv(\"speed_data.csv\", df_speed)\n",
    "save_data_csv(\"fuel_level_data.csv\", df_fuel)\n"
   ]
  },
  {
   "cell_type": "markdown",
   "id": "9d4db9e3",
   "metadata": {},
   "source": [
    "## 2) Data Transformation"
   ]
  },
  {
   "cell_type": "markdown",
   "id": "3f6d3069",
   "metadata": {},
   "source": [
    "#### Romove duplicated Rows"
   ]
  },
  {
   "cell_type": "code",
   "execution_count": 133,
   "id": "9771c885",
   "metadata": {},
   "outputs": [],
   "source": [
    "df_engine = df_engine.drop_duplicates()\n",
    "df_speed = df_speed.drop_duplicates()\n",
    "df_fuel = df_fuel.drop_duplicates()"
   ]
  },
  {
   "cell_type": "markdown",
   "id": "00b88e75",
   "metadata": {},
   "source": [
    "#### Fill missing Values in the data"
   ]
  },
  {
   "cell_type": "code",
   "execution_count": 134,
   "id": "eb8860eb",
   "metadata": {},
   "outputs": [],
   "source": [
    "def impute_missing_values(df):\n",
    "    # Fill missing values for engine temperature with the mean, rounded to 2 decimal places\n",
    "    df['engine_temperature'] = df['engine_temperature'].fillna(df['engine_temperature'].mean()).round(2)\n",
    "    return df"
   ]
  },
  {
   "cell_type": "markdown",
   "id": "a36fd1dd",
   "metadata": {},
   "source": [
    "#### save the transformed data"
   ]
  },
  {
   "cell_type": "code",
   "execution_count": 135,
   "id": "aa8070fc",
   "metadata": {},
   "outputs": [
    {
     "name": "stdout",
     "output_type": "stream",
     "text": [
      "Saved sensor data as CSV: data\\engine_temperature_data.csv\n"
     ]
    }
   ],
   "source": [
    "df_engine = impute_missing_values(df_engine)\n",
    "save_data_csv(\"engine_temperature_data.csv\", df_engine)"
   ]
  },
  {
   "cell_type": "markdown",
   "id": "c977d60c",
   "metadata": {},
   "source": [
    "# 3) Predictive Modeling"
   ]
  },
  {
   "cell_type": "markdown",
   "id": "fde1b991",
   "metadata": {},
   "source": [
    "#### Merge speed and fuel level into one dataframe"
   ]
  },
  {
   "cell_type": "code",
   "execution_count": 136,
   "id": "9cc8b4ad",
   "metadata": {},
   "outputs": [],
   "source": [
    "df_speed = pd.read_csv(\"data/speed_data.csv\")\n",
    "df_fuel = pd.read_csv(\"data/fuel_level_data.csv\")\n",
    "\n",
    "# Convert timestamps\n",
    "df_speed['timestamp'] = pd.to_datetime(df_speed['timestamp'])\n",
    "df_fuel['timestamp'] = pd.to_datetime(df_fuel['timestamp'])\n",
    "\n",
    "# Merge on nearest timestamp\n",
    "df = pd.merge_asof(df_fuel.sort_values('timestamp'),\n",
    "                   df_speed.sort_values('timestamp'),\n",
    "                   on='timestamp', direction='nearest')\n",
    "\n",
    "df = df[['timestamp', 'speed', 'fuel_level']]\n"
   ]
  },
  {
   "cell_type": "markdown",
   "id": "562da41f",
   "metadata": {},
   "source": [
    "#### calculate distance traveled"
   ]
  },
  {
   "cell_type": "code",
   "execution_count": 137,
   "id": "bfd76691",
   "metadata": {},
   "outputs": [],
   "source": [
    "# Distance per second = (km/h) * (1/3600)\n",
    "df['distance_delta'] = df['speed'] * (1 / 3600)  # km per second\n",
    "df['cumulative_distance'] = df['distance_delta'].cumsum()  # total km since start\n"
   ]
  },
  {
   "cell_type": "markdown",
   "id": "06083447",
   "metadata": {},
   "source": [
    "#### train the model"
   ]
  },
  {
   "cell_type": "code",
   "execution_count": 138,
   "id": "88dbf480",
   "metadata": {},
   "outputs": [
    {
     "name": "stdout",
     "output_type": "stream",
     "text": [
      "Mean Squared Error: 0.0007\n"
     ]
    }
   ],
   "source": [
    "from sklearn.model_selection import train_test_split\n",
    "from sklearn.linear_model import LinearRegression\n",
    "from sklearn.metrics import mean_squared_error\n",
    "\n",
    "X = df[['cumulative_distance']]\n",
    "y = df['fuel_level']\n",
    "\n",
    "X_train, X_test, y_train, y_test = train_test_split(X, y, test_size=0.2, random_state=42)\n",
    "\n",
    "model = LinearRegression()\n",
    "model.fit(X_train, y_train)\n",
    "\n",
    "y_pred = model.predict(X_test)\n",
    "mse = mean_squared_error(y_test, y_pred)\n",
    "\n",
    "print(f\"Mean Squared Error: {mse:.4f}\")\n"
   ]
  },
  {
   "cell_type": "markdown",
   "id": "f7044493",
   "metadata": {},
   "source": [
    "#### make a prediction"
   ]
  },
  {
   "cell_type": "code",
   "execution_count": null,
   "id": "0dec8ece",
   "metadata": {},
   "outputs": [
    {
     "name": "stdout",
     "output_type": "stream",
     "text": [
      "Predicted fuel level after 100 km: 43.49 liters\n"
     ]
    }
   ],
   "source": [
    "distance_km = 100\n",
    "\n",
    "# Predict using the trained model\n",
    "input_data = pd.DataFrame({'cumulative_distance': [distance_km]})\n",
    "predicted_fuel = model.predict(input_data)[0]\n",
    "print(f\"Predicted fuel level after {distance_km} km: {predicted_fuel:.2f} liters\")\n"
   ]
  }
 ],
 "metadata": {
  "kernelspec": {
   "display_name": ".venv",
   "language": "python",
   "name": "python3"
  },
  "language_info": {
   "codemirror_mode": {
    "name": "ipython",
    "version": 3
   },
   "file_extension": ".py",
   "mimetype": "text/x-python",
   "name": "python",
   "nbconvert_exporter": "python",
   "pygments_lexer": "ipython3",
   "version": "3.13.2"
  }
 },
 "nbformat": 4,
 "nbformat_minor": 5
}
