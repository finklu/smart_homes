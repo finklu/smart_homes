{
 "cells": [
  {
   "cell_type": "code",
   "execution_count": 1,
   "id": "60a3d43c",
   "metadata": {},
   "outputs": [],
   "source": [
    "import pandas as pd\n",
    "import mysql.connector\n",
    "from mysql.connector import Error"
   ]
  },
  {
   "cell_type": "code",
   "execution_count": 2,
   "id": "19fbade9",
   "metadata": {},
   "outputs": [],
   "source": [
    "\n",
    "# Database connection configuration\n",
    "db_config = {\n",
    "    'host': 'localhost',\n",
    "    'user': 'student',      # Replace with your MySQL username\n",
    "    'password': 'student',  # Replace with your MySQL password\n",
    "    'database': 'smart_home',\n",
    "    'auth_plugin': 'mysql_native_password'\n",
    "}"
   ]
  },
  {
   "cell_type": "code",
   "execution_count": null,
   "id": "1884f72c",
   "metadata": {},
   "outputs": [
    {
     "name": "stdout",
     "output_type": "stream",
     "text": [
      "Error reading CSV: name 'pd' is not defined\n"
     ]
    },
    {
     "ename": "NameError",
     "evalue": "name 'conn' is not defined",
     "output_type": "error",
     "traceback": [
      "\u001b[31m---------------------------------------------------------------------------\u001b[39m",
      "\u001b[31mNameError\u001b[39m                                 Traceback (most recent call last)",
      "\u001b[36mCell\u001b[39m\u001b[36m \u001b[39m\u001b[32mIn[1]\u001b[39m\u001b[32m, line 15\u001b[39m\n\u001b[32m     14\u001b[39m \u001b[38;5;28;01mtry\u001b[39;00m:\n\u001b[32m---> \u001b[39m\u001b[32m15\u001b[39m     conn = \u001b[43mmysql\u001b[49m.connector.connect(**db_config)\n\u001b[32m     16\u001b[39m     cursor = conn.cursor()\n",
      "\u001b[31mNameError\u001b[39m: name 'mysql' is not defined",
      "\nDuring handling of the above exception, another exception occurred:\n",
      "\u001b[31mNameError\u001b[39m                                 Traceback (most recent call last)",
      "\u001b[36mCell\u001b[39m\u001b[36m \u001b[39m\u001b[32mIn[1]\u001b[39m\u001b[32m, line 30\u001b[39m\n\u001b[32m     28\u001b[39m     \u001b[38;5;28mprint\u001b[39m(\u001b[33mf\u001b[39m\u001b[33m\"\u001b[39m\u001b[33mInserted \u001b[39m\u001b[38;5;132;01m{\u001b[39;00mcursor.rowcount\u001b[38;5;132;01m}\u001b[39;00m\u001b[33m records successfully.\u001b[39m\u001b[33m\"\u001b[39m)\n\u001b[32m---> \u001b[39m\u001b[32m30\u001b[39m \u001b[38;5;28;01mexcept\u001b[39;00m \u001b[43mError\u001b[49m \u001b[38;5;28;01mas\u001b[39;00m e:\n\u001b[32m     31\u001b[39m     \u001b[38;5;28mprint\u001b[39m(\u001b[33mf\u001b[39m\u001b[33m\"\u001b[39m\u001b[33mMySQL error: \u001b[39m\u001b[38;5;132;01m{\u001b[39;00me\u001b[38;5;132;01m}\u001b[39;00m\u001b[33m\"\u001b[39m)\n",
      "\u001b[31mNameError\u001b[39m: name 'Error' is not defined",
      "\nDuring handling of the above exception, another exception occurred:\n",
      "\u001b[31mNameError\u001b[39m                                 Traceback (most recent call last)",
      "\u001b[36mCell\u001b[39m\u001b[36m \u001b[39m\u001b[32mIn[1]\u001b[39m\u001b[32m, line 33\u001b[39m\n\u001b[32m     31\u001b[39m     \u001b[38;5;28mprint\u001b[39m(\u001b[33mf\u001b[39m\u001b[33m\"\u001b[39m\u001b[33mMySQL error: \u001b[39m\u001b[38;5;132;01m{\u001b[39;00me\u001b[38;5;132;01m}\u001b[39;00m\u001b[33m\"\u001b[39m)\n\u001b[32m     32\u001b[39m \u001b[38;5;28;01mfinally\u001b[39;00m:\n\u001b[32m---> \u001b[39m\u001b[32m33\u001b[39m     \u001b[38;5;28;01mif\u001b[39;00m \u001b[43mconn\u001b[49m.is_connected():\n\u001b[32m     34\u001b[39m         cursor.close()\n\u001b[32m     35\u001b[39m         conn.close()\n",
      "\u001b[31mNameError\u001b[39m: name 'conn' is not defined"
     ]
    },
    {
     "ename": "",
     "evalue": "",
     "output_type": "error",
     "traceback": [
      "\u001b[1;31mThe Kernel crashed while executing code in the current cell or a previous cell. \n",
      "\u001b[1;31mPlease review the code in the cell(s) to identify a possible cause of the failure. \n",
      "\u001b[1;31mClick <a href='https://aka.ms/vscodeJupyterKernelCrash'>here</a> for more info. \n",
      "\u001b[1;31mView Jupyter <a href='command:jupyter.viewOutput'>log</a> for further details."
     ]
    }
   ],
   "source": [
    "# Inserts temperature and humidity data from a CSV file into a MySQL database.\n",
    "\n",
    "# CSV file path\n",
    "csv_file = \"data/engine_temrperature_data.csv\"\n",
    "\n",
    "try:\n",
    "    df = pd.read_csv(csv_file)\n",
    "    print(\"CSV loaded successfully.\")\n",
    "except Exception as e:\n",
    "    print(f\"Error reading CSV: {e}\")\n",
    "    exit()\n",
    "\n",
    "# Create connection\n",
    "try:\n",
    "    conn = mysql.connector.connect(**db_config)\n",
    "    cursor = conn.cursor()\n",
    "    print(\"Connected to MySQL database.\")\n",
    "\n",
    "    # Insert data\n",
    "    insert_query = \"\"\"\n",
    "    INSERT INTO temperature_humidity_readings (sensor_id, timestamp, temperature, temperature_f, humidity)\n",
    "    VALUES (%s, %s, %s, %s, %s)\n",
    "    \"\"\"\n",
    "    for _, row in df.iterrows():\n",
    "        cursor.execute(insert_query, tuple(row))\n",
    "\n",
    "    conn.commit()\n",
    "    print(f\"Inserted {cursor.rowcount} records successfully.\")\n",
    "\n",
    "except Error as e:\n",
    "    print(f\"MySQL error: {e}\")\n",
    "finally:\n",
    "    if conn.is_connected():\n",
    "        cursor.close()\n",
    "        conn.close()\n",
    "        print(\"MySQL connection closed.\")"
   ]
  },
  {
   "cell_type": "code",
   "execution_count": null,
   "id": "320970cb",
   "metadata": {},
   "outputs": [
    {
     "name": "stdout",
     "output_type": "stream",
     "text": [
      "Error reading CSV: [Errno 2] No such file or directory: 'sensor_data/json/motion_detection.csv'\n",
      "Connected to MySQL database.\n",
      "MySQL connection closed.\n"
     ]
    },
    {
     "ename": "NameError",
     "evalue": "name 'df' is not defined",
     "output_type": "error",
     "traceback": [
      "\u001b[31m---------------------------------------------------------------------------\u001b[39m",
      "\u001b[31mNameError\u001b[39m                                 Traceback (most recent call last)",
      "\u001b[36mCell\u001b[39m\u001b[36m \u001b[39m\u001b[32mIn[3]\u001b[39m\u001b[32m, line 24\u001b[39m\n\u001b[32m     19\u001b[39m \u001b[38;5;66;03m# Insert data\u001b[39;00m\n\u001b[32m     20\u001b[39m insert_query = \u001b[33m\"\"\"\u001b[39m\n\u001b[32m     21\u001b[39m \u001b[33mINSERT INTO motion_detection_readings (sensor_id, timestamp, motion_detected, day_of_week)\u001b[39m\n\u001b[32m     22\u001b[39m \u001b[33mVALUES (\u001b[39m\u001b[38;5;132;01m%s\u001b[39;00m\u001b[33m, \u001b[39m\u001b[38;5;132;01m%s\u001b[39;00m\u001b[33m, \u001b[39m\u001b[38;5;132;01m%s\u001b[39;00m\u001b[33m, \u001b[39m\u001b[38;5;132;01m%s\u001b[39;00m\u001b[33m)\u001b[39m\n\u001b[32m     23\u001b[39m \u001b[33m\u001b[39m\u001b[33m\"\"\"\u001b[39m\n\u001b[32m---> \u001b[39m\u001b[32m24\u001b[39m \u001b[38;5;28;01mfor\u001b[39;00m _, row \u001b[38;5;129;01min\u001b[39;00m \u001b[43mdf\u001b[49m.iterrows():\n\u001b[32m     25\u001b[39m     cursor.execute(insert_query, \u001b[38;5;28mtuple\u001b[39m(row))\n\u001b[32m     27\u001b[39m conn.commit()\n",
      "\u001b[31mNameError\u001b[39m: name 'df' is not defined"
     ]
    },
    {
     "ename": "",
     "evalue": "",
     "output_type": "error",
     "traceback": [
      "\u001b[1;31mThe Kernel crashed while executing code in the current cell or a previous cell. \n",
      "\u001b[1;31mPlease review the code in the cell(s) to identify a possible cause of the failure. \n",
      "\u001b[1;31mClick <a href='https://aka.ms/vscodeJupyterKernelCrash'>here</a> for more info. \n",
      "\u001b[1;31mView Jupyter <a href='command:jupyter.viewOutput'>log</a> for further details."
     ]
    }
   ],
   "source": [
    "# Inserts motion detection data from a CSV file into a MySQL database.\n",
    "\n",
    "# CSV file path\n",
    "csv_file = \"sensor_data/json/motion_detection.csv\"\n",
    "\n",
    "try:\n",
    "    df = pd.read_csv(csv_file)\n",
    "    print(\"CSV loaded successfully.\")\n",
    "except Exception as e:\n",
    "    print(f\"Error reading CSV: {e}\")\n",
    "    exit()\n",
    "\n",
    "# Create connection\n",
    "try:\n",
    "    conn = mysql.connector.connect(**db_config)\n",
    "    cursor = conn.cursor()\n",
    "    print(\"Connected to MySQL database.\")\n",
    "\n",
    "    # Insert data\n",
    "    insert_query = \"\"\"\n",
    "    INSERT INTO motion_detection_readings (sensor_id, timestamp, motion_detected, day_of_week)\n",
    "    VALUES (%s, %s, %s, %s)\n",
    "    \"\"\"\n",
    "    for _, row in df.iterrows():\n",
    "        cursor.execute(insert_query, tuple(row))\n",
    "\n",
    "    conn.commit()\n",
    "    print(f\"Inserted {cursor.rowcount} records successfully.\")\n",
    "\n",
    "except Error as e:\n",
    "    print(f\"MySQL error: {e}\")\n",
    "finally:\n",
    "    if conn.is_connected():\n",
    "        cursor.close()\n",
    "        conn.close()\n",
    "        print(\"MySQL connection closed.\")\n",
    "\n"
   ]
  },
  {
   "cell_type": "code",
   "execution_count": null,
   "id": "cdc7059a",
   "metadata": {},
   "outputs": [
    {
     "name": "stdout",
     "output_type": "stream",
     "text": [
      "Error reading CSV: [Errno 2] No such file or directory: 'sensor_data/xml/air_quality_readings.csv'\n",
      "Connected to MySQL database.\n",
      "MySQL error: Not enough parameters for the SQL statement\n",
      "MySQL connection closed.\n"
     ]
    },
    {
     "ename": "",
     "evalue": "",
     "output_type": "error",
     "traceback": [
      "\u001b[1;31mThe Kernel crashed while executing code in the current cell or a previous cell. \n",
      "\u001b[1;31mPlease review the code in the cell(s) to identify a possible cause of the failure. \n",
      "\u001b[1;31mClick <a href='https://aka.ms/vscodeJupyterKernelCrash'>here</a> for more info. \n",
      "\u001b[1;31mView Jupyter <a href='command:jupyter.viewOutput'>log</a> for further details."
     ]
    }
   ],
   "source": [
    "# Inserts air quality readings data from a CSV file into a MySQL database.\n",
    "\n",
    "# CSV file path\n",
    "csv_file = \"sensor_data/xml/air_quality_readings.csv\"\n",
    "\n",
    "try:\n",
    "    df = pd.read_csv(csv_file)\n",
    "    print(\"CSV loaded successfully.\")\n",
    "except Exception as e:\n",
    "    print(f\"Error reading CSV: {e}\")\n",
    "    exit()\n",
    "\n",
    "# Create connection\n",
    "try:\n",
    "    conn = mysql.connector.connect(**db_config)\n",
    "    cursor = conn.cursor()\n",
    "    print(\"Connected to MySQL database.\")\n",
    "\n",
    "    # Insert data\n",
    "    insert_query = \"\"\"\n",
    "    INSERT INTO air_quality_readings (sensor_id, timestamp, pm2_5, pm10, so2, no2, health_environment)\n",
    "    VALUES (%s, %s, %s, %s, %s, %s, %s)\n",
    "    \"\"\"\n",
    "    for _, row in df.iterrows():\n",
    "        cursor.execute(insert_query, tuple(row))\n",
    "\n",
    "    conn.commit()\n",
    "    print(f\"Inserted {cursor.rowcount} records successfully.\")\n",
    "\n",
    "except Error as e:\n",
    "    print(f\"MySQL error: {e}\")\n",
    "finally:\n",
    "    if conn.is_connected():\n",
    "        cursor.close()\n",
    "        conn.close()\n",
    "        print(\"MySQL connection closed.\")\n",
    "\n"
   ]
  }
 ],
 "metadata": {
  "kernelspec": {
   "display_name": ".venv",
   "language": "python",
   "name": "python3"
  },
  "language_info": {
   "codemirror_mode": {
    "name": "ipython",
    "version": 3
   },
   "file_extension": ".py",
   "mimetype": "text/x-python",
   "name": "python",
   "nbconvert_exporter": "python",
   "pygments_lexer": "ipython3",
   "version": "3.13.2"
  }
 },
 "nbformat": 4,
 "nbformat_minor": 5
}
