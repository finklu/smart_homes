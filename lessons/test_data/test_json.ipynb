{
 "cells": [
  {
   "cell_type": "markdown",
   "metadata": {},
   "source": [
    "# Creating a JSON file with Python\n",
    "Fink Lucas on 24th March 2025"
   ]
  },
  {
   "cell_type": "code",
   "execution_count": 9,
   "metadata": {},
   "outputs": [],
   "source": [
    "import json\n",
    "\n",
    "data = [\n",
    "    {\n",
    "    'sensor_id': 2,\n",
    "    'timestamp': '2025-02-22T21:11:33.121623',\n",
    "    'motion_detected': True\n",
    "    },\n",
    "    {\n",
    "    'sensor_id': 2,\n",
    "    'timestamp': '2025-02-22T21:11:33.121623',\n",
    "    'motion_detected': True  \n",
    "    },\n",
    "    {\n",
    "\t\t\"sensor_id\": 2,\n",
    "\t\t\"timestamp\": \"2025-02-22T21:11:33.121623\",\n",
    "\t\t\"motion_detected\": True,\n",
    "\t\t\"location\": {\n",
    "\t\t\t\"building\": \"Building 1\",\n",
    "\t\t\t\"floor\": 3,\n",
    "\t\t\t\"room\": \"Apartment 1\"\n",
    "\t\t}\n",
    "\t},\n",
    "\t{\n",
    "\t\t\"sensor_id\": 2,\n",
    "\t\t\"timestamp\": \"2025-02-22T21:11:33.121623\",\n",
    "\t\t\"motion_detected\": True\n",
    "\t},\n",
    "\t{\n",
    "\t\"sensor_id\": 2,\n",
    "\t\t\"timestamp\": \"2025-02-22T21:11:33.121623\",\n",
    "\t\t\"motion_detected\": True,\n",
    "\t\t\"location\": {\n",
    "\t\t\t\"building\": \"Building 2\",\n",
    "\t\t\t\"floor\": 1,\n",
    "\t\t\t\"room\": \"Apartment 2\"\n",
    "\t\t}\n",
    "\t}\n",
    "]"
   ]
  },
  {
   "cell_type": "markdown",
   "metadata": {},
   "source": [
    "#### Specify the filename"
   ]
  },
  {
   "cell_type": "code",
   "execution_count": 10,
   "metadata": {},
   "outputs": [],
   "source": [
    "filename = \"test_json.json\""
   ]
  },
  {
   "cell_type": "markdown",
   "metadata": {},
   "source": [
    "##### Open the file in write mode"
   ]
  },
  {
   "cell_type": "code",
   "execution_count": 11,
   "metadata": {},
   "outputs": [
    {
     "name": "stdout",
     "output_type": "stream",
     "text": [
      "JSON file 'test_json.json' created successfully.\n"
     ]
    }
   ],
   "source": [
    "with open(filename, 'w') as json_file:\n",
    "    json.dump(data, json_file, indent=4)\n",
    "    \n",
    "json_file.close()\n",
    "\n",
    "print(f\"JSON file '{filename}' created successfully.\")"
   ]
  },
  {
   "cell_type": "code",
   "execution_count": null,
   "metadata": {},
   "outputs": [],
   "source": []
  }
 ],
 "metadata": {
  "kernelspec": {
   "display_name": ".venv",
   "language": "python",
   "name": "python3"
  },
  "language_info": {
   "codemirror_mode": {
    "name": "ipython",
    "version": 3
   },
   "file_extension": ".py",
   "mimetype": "text/x-python",
   "name": "python",
   "nbconvert_exporter": "python",
   "pygments_lexer": "ipython3",
   "version": "3.13.2"
  }
 },
 "nbformat": 4,
 "nbformat_minor": 2
}
