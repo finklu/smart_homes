{
 "cells": [
  {
   "cell_type": "markdown",
   "metadata": {},
   "source": [
    "# Creating a XML file with Python"
   ]
  },
  {
   "cell_type": "code",
   "execution_count": 2,
   "metadata": {},
   "outputs": [],
   "source": [
    "import xml.etree.ElementTree as ET\n",
    "from xml.dom import minidom"
   ]
  },
  {
   "cell_type": "code",
   "execution_count": 13,
   "metadata": {},
   "outputs": [
    {
     "name": "stdout",
     "output_type": "stream",
     "text": [
      "XML file {filename} has been created\n"
     ]
    }
   ],
   "source": [
    "root = ET.Element(\"AirQualityReadings\")\n",
    "\n",
    "readings_data =[\n",
    "    {\"sensor_id\":\"3\", \"timestamp\": \"2024-03-11 20:27:52\", \"pm2_5\": \"198.02\", \"pm10\":\"138.91\", \"so2\":\"481.66\", \"no2\":\"10.09\"},\n",
    "    {\"sensor_id\":\"3\", \"timestamp\": \"2024-03-11 20:28:52\", \"pm2_5\": \"200.02\", \"pm10\":\"139.91\", \"so2\":\"485.66\", \"no2\":\"11.09\"},\n",
    "    {\"sensor_id\":\"3\", \"timestamp\": \"2024-03-11 20:28:52\", \"pm2_5\": \"200.02\", \"pm10\":\"139.91\", \"so2\":\"485.66\", \"no2\":\"11.09\"},\n",
    "    {\"sensor_id\":\"3\", \"timestamp\": \"2024-03-11 20:28:52\", \"pm2_5\": \"200.02\", \"pm10\":\"139.91\", \"so2\":\"485.66\", \"no2\":\"11.09\"},\n",
    "    {\"sensor_id\":\"3\", \"timestamp\": \"2024-03-11 20:28:52\", \"pm2_5\": \"200.02\", \"pm10\":\"139.91\", \"so2\":\"485.66\", \"no2\":\"11.09\"}, \n",
    "    {\"sensor_id\":\"3\", \"timestamp\": \"2024-03-11 20:28:52\", \"pm2_5\": \"200.02\", \"pm10\":\"139.91\", \"so2\":\"485.66\", \"no2\":\"11.09\"},  \n",
    "    {\"sensor_id\":\"3\", \"timestamp\": \"2024-03-11 20:28:52\", \"pm2_5\": \"200.02\", \"pm10\":\"139.91\", \"so2\":\"485.66\", \"no2\":\"11.09\"}, \n",
    "    {\"sensor_id\":\"3\", \"timestamp\": \"2024-03-11 20:28:52\", \"pm2_5\": \"200.02\", \"pm10\":\"139.91\", \"so2\":\"485.66\", \"no2\":\"11.09\"},   \n",
    "    {\"sensor_id\":\"3\", \"timestamp\": \"2024-03-11 20:28:52\", \"pm2_5\": \"200.02\", \"pm10\":\"139.91\", \"so2\":\"485.66\", \"no2\":\"11.09\"},\n",
    "    \n",
    "]\n",
    "\n",
    "for reading in readings_data:\n",
    "    reading_element = ET.SubElement(root, \"Reading\")\n",
    "    for key, value in reading.items():\n",
    "        child = ET.SubElement(reading_element, key)\n",
    "        child.text = value\n",
    "\n",
    "xml_str = ET.tostring(root, encoding=\"utf-8\")\n",
    "\n",
    "pretty_xml_as_string = minidom.parseString(xml_str).toprettyxml(indent=\" \")\n",
    "\n",
    "filename = \"text_xml.xml\"\n",
    "\n",
    "with open(filename, \"w\") as f:\n",
    "    f.write(pretty_xml_as_string)\n",
    "    \n",
    "print(\"XML file {filename} has been created\")    "
   ]
  },
  {
   "cell_type": "code",
   "execution_count": null,
   "metadata": {},
   "outputs": [],
   "source": []
  }
 ],
 "metadata": {
  "kernelspec": {
   "display_name": ".venv",
   "language": "python",
   "name": "python3"
  },
  "language_info": {
   "codemirror_mode": {
    "name": "ipython",
    "version": 3
   },
   "file_extension": ".py",
   "mimetype": "text/x-python",
   "name": "python",
   "nbconvert_exporter": "python",
   "pygments_lexer": "ipython3",
   "version": "3.13.2"
  }
 },
 "nbformat": 4,
 "nbformat_minor": 2
}
