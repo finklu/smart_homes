{
 "cells": [
  {
   "cell_type": "markdown",
   "metadata": {},
   "source": [
    "# Motion detector snesor"
   ]
  },
  {
   "cell_type": "code",
   "execution_count": 3,
   "metadata": {},
   "outputs": [],
   "source": [
    "import os, time, pandas as pd,random\n",
    "import json\n",
    "from datetime import datetime\n",
    "\n",
    "# Output directory\n",
    "output_dir = \"sensor_data/json\"\n",
    "os.makedirs(output_dir, exist_ok=True)"
   ]
  },
  {
   "cell_type": "code",
   "execution_count": null,
   "metadata": {},
   "outputs": [],
   "source": [
    "def generate_motion_detector_data(sensor_id=2):\n",
    "    return {\n",
    "        \"sensor_id\": sensor_id,\n",
    "        \"timestamp\": datetime.now().isoformat(),\n",
    "        \"motion_detected\": random.choice([True, False]) if random.random() > 0.2 else None\n",
    "        \n",
    "    }\n"
   ]
  },
  {
   "cell_type": "code",
   "execution_count": 5,
   "metadata": {},
   "outputs": [],
   "source": [
    "def save_motion_detector_json(file_name, data):\n",
    "    file_path = os.path.join(output_dir, file_name)\n",
    "    with open(file_path, \"w\") as f:\n",
    "        json.dump(data, f, indent=4)\n",
    "    print(f\"Data saved to {file_path}\")"
   ]
  },
  {
   "cell_type": "code",
   "execution_count": 10,
   "metadata": {},
   "outputs": [
    {
     "name": "stdout",
     "output_type": "stream",
     "text": [
      "{'sensor_id': 2, 'timestamp': '2025-03-31T15:48:30.835776', 'motion_detected': True}\n",
      "{'sensor_id': 2, 'timestamp': '2025-03-31T15:48:30.936228', 'motion_detected': False}\n",
      "{'sensor_id': 2, 'timestamp': '2025-03-31T15:48:31.036727', 'motion_detected': True}\n",
      "{'sensor_id': 2, 'timestamp': '2025-03-31T15:48:31.137238', 'motion_detected': False}\n",
      "{'sensor_id': 2, 'timestamp': '2025-03-31T15:48:31.238227', 'motion_detected': True}\n",
      "{'sensor_id': 2, 'timestamp': '2025-03-31T15:48:31.339058', 'motion_detected': True}\n",
      "{'sensor_id': 2, 'timestamp': '2025-03-31T15:48:31.439647', 'motion_detected': True}\n",
      "{'sensor_id': 2, 'timestamp': '2025-03-31T15:48:31.540586', 'motion_detected': True}\n",
      "{'sensor_id': 2, 'timestamp': '2025-03-31T15:48:31.640856', 'motion_detected': None}\n",
      "{'sensor_id': 2, 'timestamp': '2025-03-31T15:48:31.741529', 'motion_detected': False}\n",
      "{'sensor_id': 2, 'timestamp': '2025-03-31T15:48:31.741529', 'motion_detected': False}\n",
      "Data saved to sensor_data/json\\temperature_humidity_errors.json\n",
      "\n",
      "Columns with missing values: ['motion_detected']\n",
      "\n",
      "Dropped rows with missing values.\n",
      "Data saved to sensor_data/json\\motion_detector.json\n"
     ]
    }
   ],
   "source": [
    "num_iterations = int(input(\"Enter number of readings to generate: \"))\n",
    "\n",
    "motion_detector_sensor_data = []\n",
    "# Generate and save sensor data\n",
    "for i in range(num_iterations):\n",
    "    motion_detector_data = generate_motion_detector_data()\n",
    "    motion_detector_sensor_data.append(motion_detector_data)\n",
    "    print(motion_detector_data)\n",
    "    time.sleep(0.1)\n",
    "\n",
    "if i % 3 == 0 and i != 0:\n",
    "        motion_detector_sensor_data.append(motion_detector_data)\n",
    "        print(motion_detector_data)\n",
    "\n",
    "df = pd.DataFrame(motion_detector_sensor_data)\n",
    "\n",
    "save_motion_detector_json(\"temperature_humidity_errors.json\",df.to_dict(orient=\"records\"))\n",
    "\n",
    "#remove duplicated rows\n",
    "df = df.drop_duplicates()\n",
    "\n",
    "missing_values = df.isnull().sum()\n",
    "if missing_values.sum() > 0:\n",
    "     missing_columns = missing_values[missing_values > 0].index.tolist()\n",
    "     print(\"\\nColumns with missing values:\", missing_columns)\n",
    "     df = df.dropna() \n",
    "     print(\"\\nDropped rows with missing values.\")\n",
    "     \n",
    "save_motion_detector_json(\"motion_detector.json\", df.to_dict(orient=\"records\"))"
   ]
  },
  {
   "cell_type": "code",
   "execution_count": null,
   "metadata": {},
   "outputs": [],
   "source": []
  }
 ],
 "metadata": {
  "kernelspec": {
   "display_name": ".venv",
   "language": "python",
   "name": "python3"
  },
  "language_info": {
   "codemirror_mode": {
    "name": "ipython",
    "version": 3
   },
   "file_extension": ".py",
   "mimetype": "text/x-python",
   "name": "python",
   "nbconvert_exporter": "python",
   "pygments_lexer": "ipython3",
   "version": "3.13.2"
  }
 },
 "nbformat": 4,
 "nbformat_minor": 2
}
