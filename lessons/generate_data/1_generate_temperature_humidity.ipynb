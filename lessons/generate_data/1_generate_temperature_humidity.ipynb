{
 "cells": [
  {
   "cell_type": "code",
   "execution_count": null,
   "id": "126a7076",
   "metadata": {},
   "outputs": [],
   "source": [
    "\n",
    "import os, time, pandas as pd,random\n",
    "from datetime import datetime\n",
    "\n",
    "# Output directory\n",
    "output_dir = \"sensor_data/csv\"\n",
    "os.makedirs(output_dir, exist_ok=True)\n",
    "\n",
    "# Define the headers for the CSV file related to customer transactions\n",
    "header = ['sensor_id', 'timestamp', 'motor_temperature', 'humidity']\n"
   ]
  },
  {
   "cell_type": "code",
   "execution_count": 42,
   "id": "768704b7",
   "metadata": {},
   "outputs": [],
   "source": [
    "\n",
    "def generate_temperature_humidity_data(sensor_id=1):\n",
    "    temperature = round(random.uniform(18, 30), 2)\n",
    "    return {\n",
    "        \"sensor_id\": sensor_id,\n",
    "        \"timestamp\": datetime.now().isoformat(),\n",
    "        \"temperature\": temperature,\n",
    "        \"temperature_f\": round(temperature * 9 / 5 + 32, 2),\n",
    "        \"humidity\": round(random.uniform(40,70), 2) if random.random() > 0.2 else None\n",
    "    }\n"
   ]
  },
  {
   "cell_type": "code",
   "execution_count": 43,
   "id": "a229536d",
   "metadata": {},
   "outputs": [],
   "source": [
    "# Save data as CSV\n",
    "def save_temperature_humidity_csv(filename, data):\n",
    "    filepath = os.path.join(output_dir, filename)\n",
    "    df = pd.DataFrame(data)\n",
    "    df.to_csv(filepath, mode='w', index=False, header=True)  \n",
    "    print(f\"Saved Temperature & Humidity CSV: {filepath}\")"
   ]
  },
  {
   "cell_type": "code",
   "execution_count": 46,
   "id": "b9b204b1",
   "metadata": {},
   "outputs": [],
   "source": [
    "# impute only humidity\n",
    "from sklearn.linear_model import LinearRegression\n",
    "\n",
    "\n",
    "def impute_missing_values(df, strategy= 'mean'):\n",
    "    if strategy == 'mean':\n",
    "        df['humidity'] = df['humidity'].fillna(df['humidity'].mean()).round(2)\n",
    "    elif strategy == 'median':\n",
    "        df['humidity'] = df['humidity'].fillna(df['humidity'].median()).round(2)\n",
    "    elif strategy == 'mode':\n",
    "        df['humidity'] = df['humidity'].fillna(df['humidity'].mode()).round(2)\n",
    "    elif strategy == 'regression':\n",
    "        hum_train = df.dropna(subset=['humidity'])\n",
    "        model = LinearRegression()\n",
    "        model.fit(hum_train[['temperature']], hum_train['humidity'])\n",
    "        hum_missing = df[df['humidity'].isnull()]\n",
    "        df.loc[df['humidity'].isnull(), 'humidity'] = model.predict(hum_missing[['temperature']]).round(2)\n",
    "    return df\n",
    "        "
   ]
  },
  {
   "cell_type": "code",
   "execution_count": 47,
   "id": "4d686415",
   "metadata": {},
   "outputs": [
    {
     "name": "stdout",
     "output_type": "stream",
     "text": [
      "{'sensor_id': 1, 'timestamp': '2025-03-31T15:31:46.041442', 'temperature': 28.35, 'temperature_f': 83.03, 'humidity': 66.27}\n",
      "{'sensor_id': 1, 'timestamp': '2025-03-31T15:31:46.142277', 'temperature': 22.04, 'temperature_f': 71.67, 'humidity': 50.42}\n",
      "{'sensor_id': 1, 'timestamp': '2025-03-31T15:31:46.243198', 'temperature': 20.37, 'temperature_f': 68.67, 'humidity': 46.36}\n",
      "{'sensor_id': 1, 'timestamp': '2025-03-31T15:31:46.344391', 'temperature': 24.9, 'temperature_f': 76.82, 'humidity': 44.11}\n",
      "{'sensor_id': 1, 'timestamp': '2025-03-31T15:31:46.344391', 'temperature': 24.9, 'temperature_f': 76.82, 'humidity': 44.11}\n",
      "{'sensor_id': 1, 'timestamp': '2025-03-31T15:31:46.445296', 'temperature': 26.61, 'temperature_f': 79.9, 'humidity': 66.69}\n",
      "{'sensor_id': 1, 'timestamp': '2025-03-31T15:31:46.545502', 'temperature': 19.52, 'temperature_f': 67.14, 'humidity': 50.0}\n",
      "{'sensor_id': 1, 'timestamp': '2025-03-31T15:31:46.646393', 'temperature': 27.25, 'temperature_f': 81.05, 'humidity': 47.53}\n",
      "{'sensor_id': 1, 'timestamp': '2025-03-31T15:31:46.646393', 'temperature': 27.25, 'temperature_f': 81.05, 'humidity': 47.53}\n",
      "{'sensor_id': 1, 'timestamp': '2025-03-31T15:31:46.747162', 'temperature': 20.08, 'temperature_f': 68.14, 'humidity': None}\n",
      "{'sensor_id': 1, 'timestamp': '2025-03-31T15:31:46.848037', 'temperature': 19.45, 'temperature_f': 67.01, 'humidity': 43.44}\n",
      "{'sensor_id': 1, 'timestamp': '2025-03-31T15:31:46.949463', 'temperature': 29.95, 'temperature_f': 85.91, 'humidity': 46.52}\n",
      "{'sensor_id': 1, 'timestamp': '2025-03-31T15:31:46.949463', 'temperature': 29.95, 'temperature_f': 85.91, 'humidity': 46.52}\n",
      "{'sensor_id': 1, 'timestamp': '2025-03-31T15:31:47.050337', 'temperature': 23.84, 'temperature_f': 74.91, 'humidity': 48.48}\n",
      "{'sensor_id': 1, 'timestamp': '2025-03-31T15:31:47.150806', 'temperature': 23.21, 'temperature_f': 73.78, 'humidity': 60.39}\n",
      "{'sensor_id': 1, 'timestamp': '2025-03-31T15:31:47.251329', 'temperature': 25.03, 'temperature_f': 77.05, 'humidity': 42.11}\n",
      "{'sensor_id': 1, 'timestamp': '2025-03-31T15:31:47.251329', 'temperature': 25.03, 'temperature_f': 77.05, 'humidity': 42.11}\n",
      "{'sensor_id': 1, 'timestamp': '2025-03-31T15:31:47.352152', 'temperature': 22.75, 'temperature_f': 72.95, 'humidity': 48.76}\n",
      "{'sensor_id': 1, 'timestamp': '2025-03-31T15:31:47.452497', 'temperature': 21.55, 'temperature_f': 70.79, 'humidity': None}\n",
      "{'sensor_id': 1, 'timestamp': '2025-03-31T15:31:47.553328', 'temperature': 20.89, 'temperature_f': 69.6, 'humidity': 52.94}\n",
      "{'sensor_id': 1, 'timestamp': '2025-03-31T15:31:47.553328', 'temperature': 20.89, 'temperature_f': 69.6, 'humidity': 52.94}\n",
      "{'sensor_id': 1, 'timestamp': '2025-03-31T15:31:47.653903', 'temperature': 28.63, 'temperature_f': 83.53, 'humidity': 58.57}\n",
      "{'sensor_id': 1, 'timestamp': '2025-03-31T15:31:47.754323', 'temperature': 22.1, 'temperature_f': 71.78, 'humidity': 65.09}\n",
      "{'sensor_id': 1, 'timestamp': '2025-03-31T15:31:47.855230', 'temperature': 25.57, 'temperature_f': 78.03, 'humidity': 52.6}\n",
      "{'sensor_id': 1, 'timestamp': '2025-03-31T15:31:47.855230', 'temperature': 25.57, 'temperature_f': 78.03, 'humidity': 52.6}\n",
      "{'sensor_id': 1, 'timestamp': '2025-03-31T15:31:47.956225', 'temperature': 20.91, 'temperature_f': 69.64, 'humidity': 45.75}\n",
      "Saved Temperature & Humidity CSV: sensor_data/csv\\temperature_humidity_errors.csv\n",
      "Saved Temperature & Humidity CSV: sensor_data/csv\\temperature_humidity.csv\n"
     ]
    }
   ],
   "source": [
    "\n",
    "# User input for number of times to run\n",
    "num_iterations = int(input(\"Enter number of readings to generate: \"))\n",
    "\n",
    "temperature_humidity_sensor_data = []\n",
    "# Generate and save sensor data\n",
    "for i in range(num_iterations):\n",
    "    temperature_humidity_data = generate_temperature_humidity_data()\n",
    "    temperature_humidity_sensor_data.append(temperature_humidity_data)\n",
    "    print(temperature_humidity_data)\n",
    "\n",
    "    time.sleep(0.1)\n",
    "    \n",
    "    if i % 3 == 0 and i != 0:\n",
    "        temperature_humidity_sensor_data.append(temperature_humidity_data)\n",
    "        print(temperature_humidity_data)\n",
    "\n",
    "#create dataframe\n",
    "df = pd.DataFrame(temperature_humidity_sensor_data)\n",
    "\n",
    "#save raw data (with duplicates)\n",
    "save_temperature_humidity_csv(\"temperature_humidity_errors.csv\", df)\n",
    "\n",
    "#remove duplicated rows\n",
    "df = df.drop_duplicates()\n",
    "\n",
    "#check if any column has missing data\n",
    "#missing_values = df.isnull().sum()\n",
    "#if missing_values.sum() > 0:\n",
    "#    missing_columns = missing_values[missing_values > 0].index.tolist()\n",
    "#    print(\"\\nColumns with missing values:\", missing_columns)\n",
    "#    df = df.dropna()\n",
    "#    print(\"\\nDropped rows with missing values.\")\n",
    "\n",
    "df = impute_missing_values(df, strategy='mean')\n",
    "# save cleaned data\n",
    "save_temperature_humidity_csv(\"temperature_humidity.csv\", df)    \n",
    "\n",
    "#save_temperature_humidity_csv(\"temperature_humidity.csv\", temperature_humidity_sensor_data)\n"
   ]
  },
  {
   "cell_type": "code",
   "execution_count": null,
   "id": "db2e4d03",
   "metadata": {},
   "outputs": [],
   "source": [
    " "
   ]
  }
 ],
 "metadata": {
  "kernelspec": {
   "display_name": ".venv",
   "language": "python",
   "name": "python3"
  },
  "language_info": {
   "codemirror_mode": {
    "name": "ipython",
    "version": 3
   },
   "file_extension": ".py",
   "mimetype": "text/x-python",
   "name": "python",
   "nbconvert_exporter": "python",
   "pygments_lexer": "ipython3",
   "version": "3.13.2"
  }
 },
 "nbformat": 4,
 "nbformat_minor": 5
}
