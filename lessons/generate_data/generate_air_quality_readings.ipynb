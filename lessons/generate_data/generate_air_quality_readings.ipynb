{
 "cells": [
  {
   "cell_type": "markdown",
   "metadata": {},
   "source": [
    "# Air Quality Sensor"
   ]
  },
  {
   "cell_type": "code",
   "execution_count": 1,
   "metadata": {},
   "outputs": [],
   "source": [
    "import os, time, pandas as pd,random\n",
    "from datetime import datetime\n",
    "import xml.etree.ElementTree as ET\n",
    "from xml.dom import minidom\n",
    "\n",
    "# Output directory\n",
    "output_dir = \"sensor_data/xml\"\n",
    "os.makedirs(output_dir, exist_ok=True)"
   ]
  },
  {
   "cell_type": "markdown",
   "metadata": {},
   "source": [
    "### Generate data elements"
   ]
  },
  {
   "cell_type": "code",
   "execution_count": 2,
   "metadata": {},
   "outputs": [],
   "source": [
    "def generate_air_quality_data(sensor_id=3):\n",
    "    return {\n",
    "        \"sensor_id\": sensor_id,\n",
    "        \"timestamp\": datetime.now().isoformat(),\n",
    "        \"pm2_5\": round(random.uniform(0, 1000), 2),\n",
    "        \"pm10\": round(random.uniform(0, 1000), 2),\n",
    "        \"so2\":round(random.uniform(0, 1000), 2),\n",
    "        \"no2\":round(random.uniform(0, 1000), 2),\n",
    "            \n",
    "    }"
   ]
  },
  {
   "cell_type": "markdown",
   "metadata": {},
   "source": [
    "### Create XML format"
   ]
  },
  {
   "cell_type": "code",
   "execution_count": 8,
   "metadata": {},
   "outputs": [],
   "source": [
    "def prettify_xml(element):\n",
    "    rough_string = ET.tostring(element, 'utf-8')\n",
    "    reparsed = minidom.parseString(rough_string)\n",
    "    return reparsed.toprettyxml(indent=\"  \")"
   ]
  },
  {
   "cell_type": "markdown",
   "metadata": {},
   "source": [
    "### Save data elements"
   ]
  },
  {
   "cell_type": "code",
   "execution_count": 9,
   "metadata": {},
   "outputs": [],
   "source": [
    "def save_air_quality_xml(file_name, data):\n",
    "    root = ET.Element(\"AirQualityData\")\n",
    "    for entry in data:\n",
    "        reading = ET.SubElement(root, \"Reading\")\n",
    "        for key, value in entry.items():\n",
    "            ET.SubElement(reading, key).text = str(value)\n",
    "    pretty_xml_as_string = prettify_xml(root)\n",
    "\n",
    "    file_path = os.path.join(output_dir, file_name)\n",
    "    with open(file_path, \"w\") as f:\n",
    "        f.write(pretty_xml_as_string)\n",
    "\n",
    "    print(f\"Data saved to {file_path}\")"
   ]
  },
  {
   "cell_type": "markdown",
   "metadata": {},
   "source": [
    "### How many data elements should be created"
   ]
  },
  {
   "cell_type": "code",
   "execution_count": 13,
   "metadata": {},
   "outputs": [
    {
     "name": "stdout",
     "output_type": "stream",
     "text": [
      "Generated 1/100: {'sensor_id': 3, 'timestamp': '2025-03-25T14:15:48.591784', 'pm2_5': 792.34, 'pm10': 330.68, 'so2': 308.62, 'no2': 781.75}\n",
      "Generated 2/100: {'sensor_id': 3, 'timestamp': '2025-03-25T14:15:48.593123', 'pm2_5': 869.2, 'pm10': 387.4, 'so2': 847.01, 'no2': 332.21}\n",
      "Generated 3/100: {'sensor_id': 3, 'timestamp': '2025-03-25T14:15:48.594776', 'pm2_5': 516.91, 'pm10': 310.07, 'so2': 695.11, 'no2': 459.49}\n",
      "Generated 4/100: {'sensor_id': 3, 'timestamp': '2025-03-25T14:15:48.596445', 'pm2_5': 823.57, 'pm10': 291.19, 'so2': 656.95, 'no2': 409.47}\n",
      "Generated 5/100: {'sensor_id': 3, 'timestamp': '2025-03-25T14:15:48.598116', 'pm2_5': 844.2, 'pm10': 256.47, 'so2': 118.25, 'no2': 890.85}\n",
      "Generated 6/100: {'sensor_id': 3, 'timestamp': '2025-03-25T14:15:48.599512', 'pm2_5': 800.87, 'pm10': 778.23, 'so2': 266.06, 'no2': 324.52}\n",
      "Generated 7/100: {'sensor_id': 3, 'timestamp': '2025-03-25T14:15:48.601109', 'pm2_5': 583.64, 'pm10': 36.47, 'so2': 470.65, 'no2': 792.41}\n",
      "Generated 8/100: {'sensor_id': 3, 'timestamp': '2025-03-25T14:15:48.602713', 'pm2_5': 764.97, 'pm10': 834.63, 'so2': 960.94, 'no2': 922.96}\n",
      "Generated 9/100: {'sensor_id': 3, 'timestamp': '2025-03-25T14:15:48.603932', 'pm2_5': 794.35, 'pm10': 487.56, 'so2': 714.53, 'no2': 507.36}\n",
      "Generated 10/100: {'sensor_id': 3, 'timestamp': '2025-03-25T14:15:48.605556', 'pm2_5': 257.66, 'pm10': 132.24, 'so2': 359.11, 'no2': 961.23}\n",
      "Generated 11/100: {'sensor_id': 3, 'timestamp': '2025-03-25T14:15:48.607261', 'pm2_5': 319.84, 'pm10': 927.07, 'so2': 425.73, 'no2': 9.24}\n",
      "Generated 12/100: {'sensor_id': 3, 'timestamp': '2025-03-25T14:15:48.608919', 'pm2_5': 610.06, 'pm10': 789.48, 'so2': 460.68, 'no2': 187.56}\n",
      "Generated 13/100: {'sensor_id': 3, 'timestamp': '2025-03-25T14:15:48.610840', 'pm2_5': 690.09, 'pm10': 745.43, 'so2': 245.09, 'no2': 770.83}\n",
      "Generated 14/100: {'sensor_id': 3, 'timestamp': '2025-03-25T14:15:48.612760', 'pm2_5': 785.08, 'pm10': 101.04, 'so2': 199.42, 'no2': 869.46}\n",
      "Generated 15/100: {'sensor_id': 3, 'timestamp': '2025-03-25T14:15:48.614624', 'pm2_5': 278.91, 'pm10': 213.89, 'so2': 611.18, 'no2': 68.53}\n",
      "Generated 16/100: {'sensor_id': 3, 'timestamp': '2025-03-25T14:15:48.615921', 'pm2_5': 315.74, 'pm10': 293.19, 'so2': 510.35, 'no2': 100.43}\n",
      "Generated 17/100: {'sensor_id': 3, 'timestamp': '2025-03-25T14:15:48.617231', 'pm2_5': 952.11, 'pm10': 744.23, 'so2': 788.37, 'no2': 646.84}\n",
      "Generated 18/100: {'sensor_id': 3, 'timestamp': '2025-03-25T14:15:48.618898', 'pm2_5': 495.06, 'pm10': 894.29, 'so2': 863.37, 'no2': 892.52}\n",
      "Generated 19/100: {'sensor_id': 3, 'timestamp': '2025-03-25T14:15:48.620507', 'pm2_5': 796.19, 'pm10': 438.53, 'so2': 797.48, 'no2': 879.67}\n",
      "Generated 20/100: {'sensor_id': 3, 'timestamp': '2025-03-25T14:15:48.622466', 'pm2_5': 393.58, 'pm10': 582.82, 'so2': 292.91, 'no2': 567.02}\n",
      "Generated 21/100: {'sensor_id': 3, 'timestamp': '2025-03-25T14:15:48.624381', 'pm2_5': 609.6, 'pm10': 434.81, 'so2': 250.61, 'no2': 334.9}\n",
      "Generated 22/100: {'sensor_id': 3, 'timestamp': '2025-03-25T14:15:48.626286', 'pm2_5': 349.91, 'pm10': 582.0, 'so2': 189.88, 'no2': 157.68}\n",
      "Generated 23/100: {'sensor_id': 3, 'timestamp': '2025-03-25T14:15:48.628188', 'pm2_5': 532.02, 'pm10': 734.03, 'so2': 136.0, 'no2': 733.97}\n",
      "Generated 24/100: {'sensor_id': 3, 'timestamp': '2025-03-25T14:15:48.630065', 'pm2_5': 698.44, 'pm10': 40.09, 'so2': 183.04, 'no2': 348.79}\n",
      "Generated 25/100: {'sensor_id': 3, 'timestamp': '2025-03-25T14:15:48.632003', 'pm2_5': 947.84, 'pm10': 383.95, 'so2': 155.4, 'no2': 204.32}\n",
      "Generated 26/100: {'sensor_id': 3, 'timestamp': '2025-03-25T14:15:48.633247', 'pm2_5': 719.12, 'pm10': 745.49, 'so2': 9.49, 'no2': 372.78}\n",
      "Generated 27/100: {'sensor_id': 3, 'timestamp': '2025-03-25T14:15:48.635106', 'pm2_5': 474.84, 'pm10': 604.36, 'so2': 411.06, 'no2': 88.97}\n",
      "Generated 28/100: {'sensor_id': 3, 'timestamp': '2025-03-25T14:15:48.637020', 'pm2_5': 982.8, 'pm10': 367.0, 'so2': 371.77, 'no2': 761.05}\n",
      "Generated 29/100: {'sensor_id': 3, 'timestamp': '2025-03-25T14:15:48.638925', 'pm2_5': 611.8, 'pm10': 111.71, 'so2': 911.13, 'no2': 987.41}\n",
      "Generated 30/100: {'sensor_id': 3, 'timestamp': '2025-03-25T14:15:48.640806', 'pm2_5': 388.87, 'pm10': 75.9, 'so2': 325.31, 'no2': 874.34}\n",
      "Generated 31/100: {'sensor_id': 3, 'timestamp': '2025-03-25T14:15:48.642721', 'pm2_5': 423.83, 'pm10': 164.58, 'so2': 636.64, 'no2': 561.15}\n",
      "Generated 32/100: {'sensor_id': 3, 'timestamp': '2025-03-25T14:15:48.644663', 'pm2_5': 296.38, 'pm10': 389.49, 'so2': 96.88, 'no2': 998.06}\n",
      "Generated 33/100: {'sensor_id': 3, 'timestamp': '2025-03-25T14:15:48.646575', 'pm2_5': 859.87, 'pm10': 626.2, 'so2': 857.5, 'no2': 345.18}\n",
      "Generated 34/100: {'sensor_id': 3, 'timestamp': '2025-03-25T14:15:48.648518', 'pm2_5': 20.27, 'pm10': 686.79, 'so2': 789.21, 'no2': 732.02}\n",
      "Generated 35/100: {'sensor_id': 3, 'timestamp': '2025-03-25T14:15:48.649726', 'pm2_5': 267.26, 'pm10': 3.11, 'so2': 960.17, 'no2': 106.73}\n",
      "Generated 36/100: {'sensor_id': 3, 'timestamp': '2025-03-25T14:15:48.651334', 'pm2_5': 65.13, 'pm10': 727.71, 'so2': 260.65, 'no2': 0.97}\n",
      "Generated 37/100: {'sensor_id': 3, 'timestamp': '2025-03-25T14:15:48.653010', 'pm2_5': 712.9, 'pm10': 454.65, 'so2': 977.2, 'no2': 411.07}\n",
      "Generated 38/100: {'sensor_id': 3, 'timestamp': '2025-03-25T14:15:48.654840', 'pm2_5': 62.02, 'pm10': 385.6, 'so2': 327.4, 'no2': 996.58}\n",
      "Generated 39/100: {'sensor_id': 3, 'timestamp': '2025-03-25T14:15:48.656760', 'pm2_5': 98.24, 'pm10': 669.25, 'so2': 84.59, 'no2': 415.72}\n",
      "Generated 40/100: {'sensor_id': 3, 'timestamp': '2025-03-25T14:15:48.658707', 'pm2_5': 646.75, 'pm10': 953.36, 'so2': 371.29, 'no2': 482.56}\n",
      "Generated 41/100: {'sensor_id': 3, 'timestamp': '2025-03-25T14:15:48.660641', 'pm2_5': 21.14, 'pm10': 250.07, 'so2': 767.85, 'no2': 377.83}\n",
      "Generated 42/100: {'sensor_id': 3, 'timestamp': '2025-03-25T14:15:48.662613', 'pm2_5': 941.23, 'pm10': 669.02, 'so2': 900.66, 'no2': 599.7}\n",
      "Generated 43/100: {'sensor_id': 3, 'timestamp': '2025-03-25T14:15:48.664572', 'pm2_5': 979.11, 'pm10': 418.02, 'so2': 878.01, 'no2': 175.84}\n",
      "Generated 44/100: {'sensor_id': 3, 'timestamp': '2025-03-25T14:15:48.665778', 'pm2_5': 270.02, 'pm10': 206.38, 'so2': 141.98, 'no2': 765.73}\n",
      "Generated 45/100: {'sensor_id': 3, 'timestamp': '2025-03-25T14:15:48.667508', 'pm2_5': 766.63, 'pm10': 187.94, 'so2': 237.77, 'no2': 353.37}\n",
      "Generated 46/100: {'sensor_id': 3, 'timestamp': '2025-03-25T14:15:48.669157', 'pm2_5': 288.1, 'pm10': 406.24, 'so2': 683.12, 'no2': 870.48}\n",
      "Generated 47/100: {'sensor_id': 3, 'timestamp': '2025-03-25T14:15:48.670953', 'pm2_5': 341.94, 'pm10': 748.51, 'so2': 995.56, 'no2': 966.39}\n",
      "Generated 48/100: {'sensor_id': 3, 'timestamp': '2025-03-25T14:15:48.672674', 'pm2_5': 223.4, 'pm10': 291.51, 'so2': 732.45, 'no2': 404.61}\n",
      "Generated 49/100: {'sensor_id': 3, 'timestamp': '2025-03-25T14:15:48.674124', 'pm2_5': 497.79, 'pm10': 715.17, 'so2': 639.21, 'no2': 552.08}\n",
      "Generated 50/100: {'sensor_id': 3, 'timestamp': '2025-03-25T14:15:48.676041', 'pm2_5': 566.38, 'pm10': 398.41, 'so2': 647.74, 'no2': 124.85}\n",
      "Generated 51/100: {'sensor_id': 3, 'timestamp': '2025-03-25T14:15:48.677966', 'pm2_5': 849.22, 'pm10': 165.04, 'so2': 175.75, 'no2': 415.9}\n",
      "Generated 52/100: {'sensor_id': 3, 'timestamp': '2025-03-25T14:15:48.679843', 'pm2_5': 600.77, 'pm10': 837.23, 'so2': 609.9, 'no2': 803.57}\n",
      "Generated 53/100: {'sensor_id': 3, 'timestamp': '2025-03-25T14:15:48.681560', 'pm2_5': 907.1, 'pm10': 511.7, 'so2': 325.05, 'no2': 24.67}\n",
      "Generated 54/100: {'sensor_id': 3, 'timestamp': '2025-03-25T14:15:48.682929', 'pm2_5': 985.0, 'pm10': 927.45, 'so2': 854.4, 'no2': 253.18}\n",
      "Generated 55/100: {'sensor_id': 3, 'timestamp': '2025-03-25T14:15:48.684650', 'pm2_5': 736.8, 'pm10': 132.5, 'so2': 963.81, 'no2': 256.77}\n",
      "Generated 56/100: {'sensor_id': 3, 'timestamp': '2025-03-25T14:15:48.686626', 'pm2_5': 192.07, 'pm10': 617.87, 'so2': 698.65, 'no2': 322.76}\n",
      "Generated 57/100: {'sensor_id': 3, 'timestamp': '2025-03-25T14:15:48.688550', 'pm2_5': 534.91, 'pm10': 504.26, 'so2': 775.42, 'no2': 349.9}\n",
      "Generated 58/100: {'sensor_id': 3, 'timestamp': '2025-03-25T14:15:48.690502', 'pm2_5': 462.97, 'pm10': 549.86, 'so2': 504.59, 'no2': 370.82}\n",
      "Generated 59/100: {'sensor_id': 3, 'timestamp': '2025-03-25T14:15:48.692438', 'pm2_5': 589.22, 'pm10': 53.31, 'so2': 296.27, 'no2': 977.59}\n",
      "Generated 60/100: {'sensor_id': 3, 'timestamp': '2025-03-25T14:15:48.694351', 'pm2_5': 166.78, 'pm10': 403.62, 'so2': 736.24, 'no2': 803.98}\n",
      "Generated 61/100: {'sensor_id': 3, 'timestamp': '2025-03-25T14:15:48.695811', 'pm2_5': 601.77, 'pm10': 807.59, 'so2': 16.92, 'no2': 893.28}\n",
      "Generated 62/100: {'sensor_id': 3, 'timestamp': '2025-03-25T14:15:48.697290', 'pm2_5': 393.58, 'pm10': 206.7, 'so2': 288.58, 'no2': 309.26}\n",
      "Generated 63/100: {'sensor_id': 3, 'timestamp': '2025-03-25T14:15:48.698739', 'pm2_5': 161.95, 'pm10': 165.63, 'so2': 195.6, 'no2': 824.63}\n",
      "Generated 64/100: {'sensor_id': 3, 'timestamp': '2025-03-25T14:15:48.700090', 'pm2_5': 530.92, 'pm10': 721.1, 'so2': 232.58, 'no2': 432.16}\n",
      "Generated 65/100: {'sensor_id': 3, 'timestamp': '2025-03-25T14:15:48.701921', 'pm2_5': 847.55, 'pm10': 363.64, 'so2': 181.37, 'no2': 871.04}\n",
      "Generated 66/100: {'sensor_id': 3, 'timestamp': '2025-03-25T14:15:48.703340', 'pm2_5': 667.44, 'pm10': 18.52, 'so2': 598.29, 'no2': 352.27}\n",
      "Generated 67/100: {'sensor_id': 3, 'timestamp': '2025-03-25T14:15:48.705228', 'pm2_5': 80.97, 'pm10': 923.42, 'so2': 407.75, 'no2': 635.8}\n",
      "Generated 68/100: {'sensor_id': 3, 'timestamp': '2025-03-25T14:15:48.707187', 'pm2_5': 414.08, 'pm10': 111.46, 'so2': 638.81, 'no2': 925.13}\n",
      "Generated 69/100: {'sensor_id': 3, 'timestamp': '2025-03-25T14:15:48.708625', 'pm2_5': 309.92, 'pm10': 176.87, 'so2': 334.97, 'no2': 47.44}\n",
      "Generated 70/100: {'sensor_id': 3, 'timestamp': '2025-03-25T14:15:48.710083', 'pm2_5': 706.75, 'pm10': 228.1, 'so2': 39.61, 'no2': 623.4}\n",
      "Generated 71/100: {'sensor_id': 3, 'timestamp': '2025-03-25T14:15:48.711541', 'pm2_5': 618.08, 'pm10': 39.86, 'so2': 294.07, 'no2': 85.5}\n",
      "Generated 72/100: {'sensor_id': 3, 'timestamp': '2025-03-25T14:15:48.713028', 'pm2_5': 956.08, 'pm10': 401.81, 'so2': 359.08, 'no2': 173.92}\n",
      "Generated 73/100: {'sensor_id': 3, 'timestamp': '2025-03-25T14:15:48.714632', 'pm2_5': 0.49, 'pm10': 548.63, 'so2': 119.76, 'no2': 480.9}\n",
      "Generated 74/100: {'sensor_id': 3, 'timestamp': '2025-03-25T14:15:48.716405', 'pm2_5': 966.53, 'pm10': 58.38, 'so2': 528.65, 'no2': 26.35}\n",
      "Generated 75/100: {'sensor_id': 3, 'timestamp': '2025-03-25T14:15:48.718164', 'pm2_5': 748.15, 'pm10': 945.07, 'so2': 464.55, 'no2': 950.52}\n",
      "Generated 76/100: {'sensor_id': 3, 'timestamp': '2025-03-25T14:15:48.720012', 'pm2_5': 413.93, 'pm10': 852.73, 'so2': 642.61, 'no2': 732.05}\n",
      "Generated 77/100: {'sensor_id': 3, 'timestamp': '2025-03-25T14:15:48.721766', 'pm2_5': 338.96, 'pm10': 67.69, 'so2': 265.06, 'no2': 607.28}\n",
      "Generated 78/100: {'sensor_id': 3, 'timestamp': '2025-03-25T14:15:48.723238', 'pm2_5': 446.87, 'pm10': 816.26, 'so2': 273.39, 'no2': 296.16}\n",
      "Generated 79/100: {'sensor_id': 3, 'timestamp': '2025-03-25T14:15:48.725094', 'pm2_5': 345.43, 'pm10': 391.98, 'so2': 676.98, 'no2': 205.4}\n",
      "Generated 80/100: {'sensor_id': 3, 'timestamp': '2025-03-25T14:15:48.726534', 'pm2_5': 136.45, 'pm10': 836.08, 'so2': 681.88, 'no2': 727.76}\n",
      "Generated 81/100: {'sensor_id': 3, 'timestamp': '2025-03-25T14:15:48.728006', 'pm2_5': 881.03, 'pm10': 531.42, 'so2': 697.6, 'no2': 767.21}\n",
      "Generated 82/100: {'sensor_id': 3, 'timestamp': '2025-03-25T14:15:48.730013', 'pm2_5': 531.26, 'pm10': 779.65, 'so2': 715.77, 'no2': 289.75}\n",
      "Generated 83/100: {'sensor_id': 3, 'timestamp': '2025-03-25T14:15:48.731477', 'pm2_5': 521.02, 'pm10': 952.63, 'so2': 764.27, 'no2': 533.26}\n",
      "Generated 84/100: {'sensor_id': 3, 'timestamp': '2025-03-25T14:15:48.733141', 'pm2_5': 143.67, 'pm10': 837.65, 'so2': 263.53, 'no2': 326.92}\n",
      "Generated 85/100: {'sensor_id': 3, 'timestamp': '2025-03-25T14:15:48.734574', 'pm2_5': 888.1, 'pm10': 281.97, 'so2': 59.75, 'no2': 997.05}\n",
      "Generated 86/100: {'sensor_id': 3, 'timestamp': '2025-03-25T14:15:48.736462', 'pm2_5': 181.56, 'pm10': 77.08, 'so2': 648.38, 'no2': 384.48}\n",
      "Generated 87/100: {'sensor_id': 3, 'timestamp': '2025-03-25T14:15:48.737980', 'pm2_5': 520.24, 'pm10': 723.85, 'so2': 931.15, 'no2': 976.38}\n",
      "Generated 88/100: {'sensor_id': 3, 'timestamp': '2025-03-25T14:15:48.739478', 'pm2_5': 321.07, 'pm10': 530.34, 'so2': 584.19, 'no2': 431.73}\n",
      "Generated 89/100: {'sensor_id': 3, 'timestamp': '2025-03-25T14:15:48.740951', 'pm2_5': 828.3, 'pm10': 474.8, 'so2': 628.28, 'no2': 997.72}\n",
      "Generated 90/100: {'sensor_id': 3, 'timestamp': '2025-03-25T14:15:48.742492', 'pm2_5': 74.9, 'pm10': 816.13, 'so2': 230.28, 'no2': 398.01}\n",
      "Generated 91/100: {'sensor_id': 3, 'timestamp': '2025-03-25T14:15:48.744041', 'pm2_5': 967.98, 'pm10': 106.5, 'so2': 941.61, 'no2': 883.91}\n",
      "Generated 92/100: {'sensor_id': 3, 'timestamp': '2025-03-25T14:15:48.745599', 'pm2_5': 132.34, 'pm10': 593.45, 'so2': 181.12, 'no2': 17.48}\n",
      "Generated 93/100: {'sensor_id': 3, 'timestamp': '2025-03-25T14:15:48.747548', 'pm2_5': 553.42, 'pm10': 436.95, 'so2': 991.52, 'no2': 197.35}\n",
      "Generated 94/100: {'sensor_id': 3, 'timestamp': '2025-03-25T14:15:48.749097', 'pm2_5': 20.38, 'pm10': 267.19, 'so2': 654.91, 'no2': 149.11}\n",
      "Generated 95/100: {'sensor_id': 3, 'timestamp': '2025-03-25T14:15:48.750411', 'pm2_5': 432.59, 'pm10': 76.19, 'so2': 987.17, 'no2': 398.8}\n",
      "Generated 96/100: {'sensor_id': 3, 'timestamp': '2025-03-25T14:15:48.752128', 'pm2_5': 74.94, 'pm10': 535.67, 'so2': 229.76, 'no2': 799.12}\n",
      "Generated 97/100: {'sensor_id': 3, 'timestamp': '2025-03-25T14:15:48.754097', 'pm2_5': 785.09, 'pm10': 112.58, 'so2': 471.22, 'no2': 644.67}\n",
      "Generated 98/100: {'sensor_id': 3, 'timestamp': '2025-03-25T14:15:48.755632', 'pm2_5': 415.52, 'pm10': 387.19, 'so2': 306.63, 'no2': 294.51}\n",
      "Generated 99/100: {'sensor_id': 3, 'timestamp': '2025-03-25T14:15:48.757129', 'pm2_5': 11.8, 'pm10': 38.6, 'so2': 400.26, 'no2': 141.14}\n",
      "Generated 100/100: {'sensor_id': 3, 'timestamp': '2025-03-25T14:15:48.758591', 'pm2_5': 140.4, 'pm10': 196.26, 'so2': 289.34, 'no2': 371.41}\n",
      "Data saved to sensor_data/xml\\air_quality.xml\n"
     ]
    }
   ],
   "source": [
    "num_iterations = int(input(\"Enter number of readings to generate: \"))\n",
    "\n",
    "air_quality_sensor_data = []\n",
    "\n",
    "for i in range(num_iterations):\n",
    "    air_quality_data = generate_air_quality_data()\n",
    "    air_quality_sensor_data.append(air_quality_data)  \n",
    "    print(f\"Generated {i+1}/{num_iterations}: {air_quality_data}\")\n",
    "    time.sleep(0.001)  \n",
    "    \n",
    "save_air_quality_xml(\"air_quality.xml\", air_quality_sensor_data)"
   ]
  },
  {
   "cell_type": "code",
   "execution_count": null,
   "metadata": {},
   "outputs": [],
   "source": []
  }
 ],
 "metadata": {
  "kernelspec": {
   "display_name": ".venv",
   "language": "python",
   "name": "python3"
  },
  "language_info": {
   "codemirror_mode": {
    "name": "ipython",
    "version": 3
   },
   "file_extension": ".py",
   "mimetype": "text/x-python",
   "name": "python",
   "nbconvert_exporter": "python",
   "pygments_lexer": "ipython3",
   "version": "3.13.2"
  }
 },
 "nbformat": 4,
 "nbformat_minor": 2
}
